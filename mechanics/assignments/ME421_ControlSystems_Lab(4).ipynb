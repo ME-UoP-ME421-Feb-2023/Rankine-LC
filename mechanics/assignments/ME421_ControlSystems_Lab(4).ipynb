{
  "nbformat": 4,
  "nbformat_minor": 0,
  "metadata": {
    "colab": {
      "provenance": []
    },
    "kernelspec": {
      "name": "python3",
      "display_name": "Python 3"
    },
    "language_info": {
      "name": "python"
    }
  },
  "cells": [
    {
      "cell_type": "markdown",
      "source": [
        "#Instructions"
      ],
      "metadata": {
        "id": "tjwc7ZikCWjn"
      }
    },
    {
      "cell_type": "markdown",
      "source": [
        "* This is a group assignment. Complete the activities in groups that were assigned for ME421 for the vibrations lab.\n",
        "\n",
        "* Make a copy of this and save it in your group github group repository.\n",
        "\n",
        "* Do all your work, EXCLUSIVELY, in that saved notebook. Your github commits will serve as a refelection of your individual contributions. It will constitute 25% of your final grade for the lab.\n",
        "\n",
        "* Complete Tasks#1 and Task#2 by 5:00PM on 14/06/2023\n",
        "\n",
        "* Complete Tasks#3 and the Task#4 by 5:00PM on 21/06/2023 and demonstrate the work in the class on 21/06/2023.\n",
        "\n",
        "* Complete Task#5 by 5:00PM on 28/06/2023."
      ],
      "metadata": {
        "id": "pOeY40kCCZIY"
      }
    },
    {
      "cell_type": "markdown",
      "source": [
        "#References"
      ],
      "metadata": {
        "id": "xQxmvsoX2wtl"
      }
    },
    {
      "cell_type": "markdown",
      "source": [
        "* https://colab.research.google.com/github/mugalan/classical-mechanics-from-a-geometric-point-of-view/blob/main/rigid-body-control/Mugas_Rigid_Body_Control.ipynb\n",
        "\n",
        "* https://github.com/mugalan/classical-mechanics-from-a-geometric-point-of-view/blob/main/rigid-body-control/MaithriPalaDHS_RigidBodyPIDControl_IITB_18_03_2023.pdf"
      ],
      "metadata": {
        "id": "N2PYkHmG2y9o"
      }
    },
    {
      "cell_type": "markdown",
      "source": [
        "#Task#1"
      ],
      "metadata": {
        "id": "JhWYC6Kv2l4k"
      }
    },
    {
      "cell_type": "markdown",
      "metadata": {
        "id": "GjPELOm2sJQg"
      },
      "source": [
        "Conside a rigid body moving in space. Let $\\mathbf{b}$ be a body fixed frame with the origin coinciding with that of the center of mass of the body, $M$ be the tatal mass of the body, $\\mathbb{I}$ be the inertia tensor of the body with respect to the body frame $\\mathbf{b}$, $f^e$ be the resultant total external interactions acting on the particles of the body, and $\\tau^e$ be the total resultant of the moments of the external interactions about the center of mass of the body. \n",
        "\n",
        "Show that a general rigid body is descibed by the following simple equations in an inertial frame $\\mathbf{e}$ where the moments are taken about the center of mass of the rigid body."
      ]
    },
    {
      "cell_type": "markdown",
      "metadata": {
        "id": "2FFWl8Whs8HJ"
      },
      "source": [
        "\\begin{align}\n",
        "\\dot{o}&=\\frac{1}{M}p\\\\\n",
        "\\dot{R}&=\\widehat{\\omega}R,\\\\\n",
        "\\dot{p}&=f^e+f^u,\\\\\n",
        "\\dot{\\pi}&=\\tau^e+\\tau^u,\n",
        "\\end{align} \n",
        "where \n",
        "\\begin{align}\n",
        "\\omega &=(\\mathbb{I}_c^R)^{-1}\\pi,\n",
        "\\end{align} \n",
        "Here we have split the force and control moments into unmanipulatable and manipulatable (control) part. The manipulatable (control) part will be denoted by a superscript $u$."
      ]
    },
    {
      "cell_type": "markdown",
      "source": [
        "## Answer"
      ],
      "metadata": {
        "id": "ubEEnlBWfkoF"
      }
    },
    {
      "cell_type": "markdown",
      "source": [
        "$\\dot{o}=\\frac{1}{M}p$......................(1)\n"
      ],
      "metadata": {
        "id": "HsXpGzE8hDKB"
      }
    },
    {
      "cell_type": "markdown",
      "source": [
        "Let's derive the equation **$\\dot{o} = \\frac{1}{M}p$** for the translation of the center of mass using basic principles of mechanics.\n",
        "\n",
        "We start with Newton's second law, which states that the rate of change of momentum of an object is equal to the net force acting on it. In vector form, this law can be expressed as:\n",
        "\\begin{equation}\n",
        "\\frac{d\\mathbf{p}}{dt} = \\sum \\mathbf{F},\n",
        "\\end{equation}\n",
        "\n",
        "where $\\frac{d\\mathbf{p}}{dt}$ is the derivative of the momentum vector $\\mathbf{p}$ with respect to time, and $\\sum \\mathbf{F}$ represents the sum of all external forces acting on the body.\n",
        "\n",
        "For a rigid body, the total linear momentum $\\mathbf{p}$ is the sum of the linear momenta of all particles in the body. Mathematically, it can be written as:\n",
        "\\begin{equation}\n",
        "\\mathbf{p} = \\sum m_i \\mathbf{v}_i,\n",
        "\\end{equation}\n",
        "\n",
        "where $m_i$ is the mass of the $i$-th particle, and $\\mathbf{v}_i$ is its velocity.\n",
        "\n",
        "The center of mass of a rigid body can be defined as the weighted average of the positions of all particles, where the weights are given by the masses of the particles. Mathematically, it can be expressed as:\n",
        "\\begin{equation}\n",
        "\\mathbf{o} = \\frac{1}{M} \\sum m_i \\mathbf{r}_i,\n",
        "\\end{equation}\n",
        "\n",
        "where $\\mathbf{o}$ is the position vector of the center of mass, $\\mathbf{r}_i$ is the position vector of the $i$-th particle, and $M$ is the total mass of the body, given by $M = \\sum m_i$.\n",
        "\n",
        "Now, let's differentiate the equation for the center of mass position with respect to time to find its rate of change:\n",
        "\\begin{align}\n",
        "\\dot{\\mathbf{o}} &= \\frac{d}{dt} \\left( \\frac{1}{M} \\sum m_i \\mathbf{r}_i \\right) \n",
        "= \\frac{1}{M} \\sum m_i \\frac{d\\mathbf{r}_i}{dt} \n",
        "= \\frac{1}{M} \\sum m_i \\mathbf{v}_i \n",
        "= \\frac{1}{M} \\mathbf{p}.\n",
        "\\end{align}\n",
        "\n",
        "In the third step, we used the fact that the derivative of the position vector with respect to time gives the velocity vector, so $\\frac{d\\mathbf{r}_i}{dt} = \\mathbf{v}_i$.\n",
        "\n",
        "Thus, we have derived the equation $\\dot{\\mathbf{o}} = \\frac{1}{M} \\mathbf{p}$, which shows that the rate of change of the center of mass position is equal to the total linear momentum divided by the total mass of the body."
      ],
      "metadata": {
        "id": "QpCakPVkfxAS"
      }
    },
    {
      "cell_type": "markdown",
      "source": [
        "$\\dot{R}=\\widehat{\\omega}R$......................(2)"
      ],
      "metadata": {
        "id": "Gsp09_poiQVM"
      }
    },
    {
      "cell_type": "markdown",
      "source": [
        " Let's derive the equation $\\dot{R} = \\widehat{\\omega}R$ for the rotational motion of a rigid body using basic principles of rotational kinematics.\n",
        "\n",
        "Consider a rigid body rotating in three-dimensional space. The orientation of the body can be represented by a rotation matrix $R$. This matrix maps coordinates from the body-fixed frame to the inertial frame.\n",
        "\n",
        "The angular velocity vector $\\boldsymbol{\\omega}$ describes the rate at which the body is rotating. It is a vector that points along the axis of rotation, and its magnitude represents the angular speed of rotation.\n",
        "\n",
        "The time derivative of the rotation matrix $R$ represents the rate of change of the orientation of the body. We can express this derivative as $\\dot{R}$.\n",
        "\n",
        "The relationship between the angular velocity $\\boldsymbol{\\omega}$ and the derivative of the rotation matrix $\\dot{R}$ is given by the formula:\n",
        "\n",
        "\\begin{equation}\n",
        "\\dot{R} = \\widehat{\\boldsymbol{\\omega}} R,\n",
        "\\end{equation}\n",
        "\n",
        "where $\\widehat{\\boldsymbol{\\omega}}$ is the skew-symmetric matrix representation of the angular velocity vector $\\boldsymbol{\\omega}$.\n",
        "\n",
        "Now, let's go through the derivation:\n",
        "\n",
        "Consider a point $P$ fixed in the body frame. Its position vector in the inertial frame can be expressed as $\\mathbf{r} = R \\mathbf{r}_0$, where $\\mathbf{r}_0$ is the position vector of $P$ in the body-fixed frame.\n",
        "\n",
        "Take the time derivative of $\\mathbf{r}$ to find its rate of change:\n",
        "\n",
        "\\begin{align}\n",
        "\\dot{\\mathbf{r}} &= \\frac{d}{dt} (R \\mathbf{r}_0) \n",
        "= \\dot{R} \\mathbf{r}_0.\n",
        "\\end{align}\n",
        "\n",
        "We also know that the velocity $\\mathbf{v}$ of point $P$ is given by the cross product of the angular velocity $\\boldsymbol{\\omega}$ and its position vector $\\mathbf{r}$:\n",
        "\\begin{equation}\n",
        "\\mathbf{v} = \\boldsymbol{\\omega} \\times \\mathbf{r}.\n",
        "\\end{equation}\n",
        "\n",
        "Take the time derivative of $\\mathbf{r}$ using the product rule and simplify:\n",
        "\\begin{align}\n",
        "\\dot{\\mathbf{r}} = \\frac{d}{dt} (R \\mathbf{r}_0) \n",
        "= \\dot{R} \\mathbf{r}_0 \n",
        "= (\\dot{R} \\mathbf{r}_0) \\times \\mathbf{r} \n",
        "= (\\dot{R} \\mathbf{r}_0) \\times (R \\mathbf{r}_0).\n",
        "\\end{align}\n",
        "\n",
        "Equate the expressions for $\\mathbf{v}$ from steps 3 and 4:\n",
        "\\begin{equation}\n",
        "\\boldsymbol{\\omega} \\times \\mathbf{r} = (\\dot{R} \\mathbf{r}_0) \\times (R \\mathbf{r}_0).\n",
        "\\end{equation}\n",
        "\n",
        "Since $\\mathbf{r}_0$ is an arbitrary vector, we can cancel it out from both sides of the equation:\n",
        "\\begin{equation}\n",
        "\\boldsymbol{\\omega} \\times \\mathbf{r} = \\dot{R} R \\mathbf{r}_0.\n",
        "\\end{equation}\n",
        "\n",
        "Recognize that $\\mathbf{r}$ is a general vector in the body frame, so we can write it as $\\mathbf{r} = R \\mathbf{r}_0$:\n",
        "\\begin{equation}\n",
        "\\boldsymbol{\\omega} \\times (R \\mathbf{r}_0) = \\dot{R} R \\mathbf{r}_0.\n",
        "\\end{equation}\n",
        "\n",
        "Multiply both sides by $R^{-1}$ from the right to simplify the equation:\n",
        "\\begin{equation}\n",
        "\\boldsymbol{\\omega} \\times \\mathbf{r}_0 = \\dot{R} R.\n",
        "\\end{equation}\n",
        "\n",
        "Finally, we recognize that $\\boldsymbol{\\omega} \\times \\mathbf{r}_0$ is the cross product of $\\boldsymbol{\\omega}$ with the position vector $\\mathbf{r}_0$, which can be expressed as the skew-symmetric matrix $\\widehat{\\boldsymbol{\\omega}}$:\n",
        "\\begin{equation}\n",
        "\\boldsymbol{\\omega} \\times \\mathbf{r}_0 = \\widehat{\\boldsymbol{\\omega}} \\mathbf{r}_0.\n",
        "\\end{equation}\n",
        "\n",
        "Substituting this into the previous equation, we obtain:\n",
        "\n",
        "\\begin{equation}\n",
        "\\widehat{\\boldsymbol{\\omega}} \\mathbf{r}_0 = \\dot{R} R.\n",
        "\\end{equation}\n",
        "\n",
        "This equation relates the derivative of the rotation matrix $\\dot{R}$ to the skew-symmetric matrix $\\widehat{\\boldsymbol{\\omega}}$. Thus, we have derived the equation $\\dot{R} = \\widehat{\\boldsymbol{\\omega}} R$, which describes the rotational motion of a rigid body."
      ],
      "metadata": {
        "id": "3sCTo7zYh2Ci"
      }
    },
    {
      "cell_type": "markdown",
      "source": [
        "$\\dot{p} = f^e + f^u$ and $\\dot{\\pi} = \\tau^e + \\tau^u$......................(2)"
      ],
      "metadata": {
        "id": "X8I7B_ccj-ZU"
      }
    },
    {
      "cell_type": "markdown",
      "source": [
        "Let's derive the equations $\\dot{p} = f^e + f^u$ and $\\dot{\\pi} = \\tau^e + \\tau^u$ for the forces and moments acting on a rigid body using basic principles of classical mechanics.\n",
        "\n",
        "**Linear Momentum:**\n",
        "Newton's second law states that the rate of change of linear momentum is equal to the net force acting on an object. Considering a rigid body, we can express this as:\n",
        "\\begin{equation}\n",
        "\\dot{p} = \\sum f,\n",
        "\\end{equation}\n",
        "\n",
        "where $\\dot{p}$ represents the time derivative of linear momentum, and $\\sum f$ denotes the sum of all forces acting on the body.\n",
        "\n",
        "**External and Unmanipulatable Forces:**\n",
        "In reality, forces acting on a body can come from both external sources and internal sources (such as control forces). To distinguish between these forces, we split the total force into two parts: the resultant external force $f^e$ and the unmanipulatable force $f^u$.\n",
        "The resultant external force $f^e$ represents the net force exerted on the body by external sources, such as gravity, contact forces, or fluid interactions. These forces cannot be controlled or manipulated directly by the body.\n",
        "\n",
        "The unmanipulatable force $f^u$ represents forces that arise from internal sources (such as control forces) or external sources that the body can control or manipulate. These forces are typically used to achieve desired motions or control the behavior of the body.\n",
        "\n",
        "**Angular Momentum:**\n",
        "Similar to linear momentum, angular momentum is also conserved in the absence of external moments. However, when external moments act on a rigid body, the angular momentum changes. We can express this as:\n",
        "\\begin{equation}\n",
        "\\dot{\\pi} = \\sum \\tau,\n",
        "\\end{equation}\n",
        "\n",
        "where $\\dot{\\pi}$ represents the time derivative of angular momentum, and $\\sum \\tau$ denotes the sum of all moments acting on the body.\n",
        "\n",
        "**External and Unmanipulatable Moments:**\n",
        "As with forces, moments acting on the body can come from both external and internal sources. To distinguish between them, we split the total moment into two parts: the resultant external moment $\\tau^e$ and the unmanipulatable moment $\\tau^u$.\n",
        "The resultant external moment $\\tau^e$ represents the net moment exerted on the body by external sources, such as torque applied by external forces or moments arising from interactions with the environment. These moments cannot be controlled or manipulated directly by the body.\n",
        "\n",
        "The unmanipulatable moment $\\tau^u$ represents moments that arise from internal sources (such as control moments) or external sources that the body can control or manipulate. These moments are typically used to achieve desired rotations or control the orientation of the body.\n",
        "\n",
        "**Combining External and Unmanipulatable Parts:**\n",
        "To account for both the external and unmanipulatable forces and moments, we add the respective parts together:\n",
        "\\begin{equation}\n",
        "\\dot{p} = f^e + f^u, \\quad \\dot{\\pi} = \\tau^e + \\tau^u.\n",
        "\\end{equation}\n",
        "\n",
        "These equations express the change in linear momentum and angular momentum of a rigid body as the sum of the resultant external interactions ($f^e$ and $\\tau^e$) and the unmanipulatable interactions ($f^u$ and $\\tau^u$).\n"
      ],
      "metadata": {
        "id": "Gf3RTColj-1I"
      }
    },
    {
      "cell_type": "markdown",
      "source": [
        "#Task#2 "
      ],
      "metadata": {
        "id": "PT5T8y9-3h1H"
      }
    },
    {
      "cell_type": "markdown",
      "source": [
        "Simulate the motion of a quadrotor UAV without resorting any parameterization of $SO(3)$ such as Euler angles or quaternions."
      ],
      "metadata": {
        "id": "iETMxXB04IZj"
      }
    },
    {
      "cell_type": "markdown",
      "source": [
        "## Answer"
      ],
      "metadata": {
        "id": "jJn0wgdEEkFd"
      }
    },
    {
      "cell_type": "markdown",
      "source": [
        "Let's simulate the motion of a quadrotor UAV using the steps outlined above. We'll assume a simple simulation scenario without considering complex control algorithms or external disturbances.\n",
        "\n",
        "**Step 1:** Initialize the initial conditions:\n",
        "\n",
        "\n",
        "Let's assume the following initial conditions for the quadrotor:\n",
        "\n",
        "Initial position: $p(0) = \\begin{bmatrix} 0 \\ 0 \\ 0 \\end{bmatrix}$\n",
        "Initial orientation: $R(0) = I$, the identity matrix\n",
        "Initial linear velocity: $v(0) = \\begin{bmatrix} 0 \\ 0 \\ 0 \\end{bmatrix}$\n",
        "Initial angular velocity: $\\boldsymbol{\\omega}(0) = \\begin{bmatrix} 0 \\ 0 \\ 0 \\end{bmatrix}$\n",
        "Quadrotor parameters: mass $m$, inertia tensor $\\mathbb{I}$, gravitational acceleration $g$\n",
        "Control inputs: desired thrust $f_{\\text{des}}$ and moments $\\boldsymbol{\\tau}_{\\text{des}}$\n",
        "\n",
        "**Step 2:** Set up the simulation loop:\n",
        "\n",
        "Choose a time step $\\Delta t$ (e.g., $\\Delta t = 0.01$ seconds) and define the simulation duration or the number of iterations.\n",
        "\n",
        "**Step 3:** Inside the simulation loop:\n",
        "\n",
        "Iterate through each time step and update the quadrotor state variables using the equations mentioned in the previous response."
      ],
      "metadata": {
        "id": "wyHFFIVtEii6"
      }
    },
    {
      "cell_type": "code",
      "source": [
        "import numpy as np\n",
        "\n",
        "# Quadrotor parameters\n",
        "m = 1.0  # Mass\n",
        "I = np.eye(3)  # Inertia tensor\n",
        "g = 9.81  # Gravitational acceleration\n",
        "\n",
        "# Control inputs\n",
        "f_des = 10.0  # Desired thrust\n",
        "tau_des = np.array([0.1, 0.2, 0.3])  # Desired moments\n",
        "\n",
        "# Simulation parameters\n",
        "dt = 0.01  # Time step\n",
        "num_iterations = 1000  # Number of iterations\n",
        "\n",
        "# Initial conditions\n",
        "p = np.zeros(3)  # Initial position\n",
        "R = np.eye(3)  # Initial rotation matrix\n",
        "v = np.zeros(3)  # Initial linear velocity\n",
        "omega = np.zeros(3)  # Initial angular velocity\n",
        "\n",
        "# Simulation loop\n",
        "for t in range(num_iterations):\n",
        "    # Compute net external forces and moments based on current state and control inputs\n",
        "    f_ext = np.array([0, 0, f_des])  # Assume all thrust in the positive z-direction\n",
        "    tau_ext = tau_des  # Assume desired moments directly\n",
        "\n",
        "    # Update linear and angular velocities\n",
        "    v += (1 / m) * (f_ext - m * g * np.array([0, 0, 1])) * dt\n",
        "    omega += np.linalg.inv(I).dot(tau_ext - np.cross(omega, I.dot(omega))) * dt\n",
        "\n",
        "    # Update position and orientation\n",
        "    R += np.cross(np.eye(3), omega).dot(R) * dt\n",
        "    p += R.dot(v) * dt\n",
        "\n",
        "    # Store the updated state variables for analysis or visualization\n",
        "\n",
        "# Print the final position and orientation\n",
        "print(\"Final Position:\", p)\n",
        "print(\"Final Orientation:\\n\", R)\n"
      ],
      "metadata": {
        "colab": {
          "base_uri": "https://localhost:8080/"
        },
        "id": "qLEh8tj4E5b9",
        "outputId": "0a978103-ade4-42ea-e7fc-3f3e0f9873cd"
      },
      "execution_count": 2,
      "outputs": [
        {
          "output_type": "stream",
          "name": "stdout",
          "text": [
            "Final Position: [1.97919824 4.13693976 6.09180741]\n",
            "Final Orientation:\n",
            " [[ 1.23489014  0.09206871 -0.13967585]\n",
            " [-0.1643426   1.18068472 -0.06567562]\n",
            " [ 0.03126502 -0.15114605  1.09034236]]\n"
          ]
        }
      ]
    },
    {
      "cell_type": "markdown",
      "source": [
        "In this code, we assume a constant desired thrust (f_des) and desired moments (tau_des) for simplicity. We can modify the control inputs and other parameters as needed for our specific scenario.\n",
        "\n",
        "By running this code, we will simulate the motion of the quadrotor UAV over the specified number of iterations (num_iterations) and observe the final position and orientation of the quadrotor.\n",
        "\n",
        "Note: This code is a simplified example and does not include advanced control algorithms or handling of external disturbances. It serves as a basic illustration of simulating the motion of a quadrotor based on the provided steps."
      ],
      "metadata": {
        "id": "r_RjlTg1GhZU"
      }
    },
    {
      "cell_type": "markdown",
      "source": [
        "#Task#3"
      ],
      "metadata": {
        "id": "iYtoUarB4L6Q"
      }
    },
    {
      "cell_type": "markdown",
      "source": [
        "Deerive a PID controller for the attitude control of a quadrorotor and use simulations to demibstrate the very large region of stability of the controller"
      ],
      "metadata": {
        "id": "AxOY5o-34TCz"
      }
    },
    {
      "cell_type": "markdown",
      "source": [
        "Here are few example our own implementations of this controller.\n",
        "\n",
        "* https://youtu.be/6E9WDQNVSYA\n",
        "* https://youtu.be/uUKxXImRMOA\n",
        "* https://youtu.be/zq05N8m_9SA\n",
        "* https://youtu.be/J5dThZGZN2g\n",
        "* https://youtu.be/J5MMp6Be3tU\n",
        "* https://youtu.be/6ZQgE1FI6Wc"
      ],
      "metadata": {
        "id": "cInu25giFEXw"
      }
    },
    {
      "cell_type": "markdown",
      "source": [
        "#Task#4"
      ],
      "metadata": {
        "id": "o6XRW2MR4nVw"
      }
    },
    {
      "cell_type": "markdown",
      "source": [
        "Derive a specialization of the controller develoed in Task#3 for the problem of stabilzing an inverted pendulum on a cart."
      ],
      "metadata": {
        "id": "u9vdw-yM4rem"
      }
    },
    {
      "cell_type": "markdown",
      "source": [
        "#Task#5"
      ],
      "metadata": {
        "id": "jkEiEv8sEPhG"
      }
    },
    {
      "cell_type": "markdown",
      "source": [
        " Experimentally verify the stability properties of the controller derived in Task#5 using the experimental setup available in the applied mechanics lab."
      ],
      "metadata": {
        "id": "w2WRdKSTEQ7i"
      }
    },
    {
      "cell_type": "code",
      "source": [],
      "metadata": {
        "id": "cwClMYSxdujW"
      },
      "execution_count": null,
      "outputs": []
    },
    {
      "cell_type": "markdown",
      "source": [],
      "metadata": {
        "id": "7ybQBIjhTzB4"
      }
    }
  ]
}